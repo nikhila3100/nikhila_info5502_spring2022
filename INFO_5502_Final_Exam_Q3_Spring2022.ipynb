{
  "cells": [
    {
      "cell_type": "markdown",
      "id": "f42f252b",
      "metadata": {
        "id": "f42f252b"
      },
      "source": [
        "<span style='background:yellow'>**Question 3 (100 pt, each sub-question is 10 pt).**</span> \n",
        "\n",
        "Part A: Given Inetd dataset, an intrusion detection dataset that contains 2 columns. The first column represents a process ID number (PID) and the second column represents a system call. The goal is to extract the entire system call sequence by its PID, then tokenize and parse each sequence into 25-grams. After this, we’ll split the data into training and testing sets. Next, we ensure data quality in the training dataset by removing duplicate sequences within each class and overlapped sequences between both classes. To ensure a fair evaluation, we also clean the testing set by repeating the previous step. You will implement a Decision Tree model to train and test on the training set and testing set that we just clean. \n",
        "\n",
        "\n",
        "Part B: As the data type is sequential, we want to know how similar the sequences from both classes are and visualize how the similarity scores vary in different sequence lengths. Compute a cosine similarity score of 100 random pairs from both classes and get a median cosine similarity. Repeat this step in different sequence lengths (5, 10, 15, and 20). Plot a line chart to visualize how the median cosine similarities vary through sequence lengths of 5 to 25. \n",
        "\n",
        "You can download the datasets from github: https://github.com/unt-iialab/info5502-spring2022/tree/main/finalexam/q4\n",
        "\n",
        "\n",
        "Step by step instructions and questions:\n",
        "\n",
        "(1) Attached are the Normal and Intrusion data folders. Read in the data and store them in two separate dataframes. Combine the system calls (the second column) from the same PID (the first column) into a sequence or a string. \n",
        "\n",
        "(2) Parse an entire sequence into smaller sequences of size 25. (Hint: Use word_tokenize and ngrams from nltk library to parse).\n",
        "\n",
        "(3) Add labels to the data, and partition the labeled data into training data and testing data with a ratio of 70/30.\n",
        "\n",
        "(4) As the dataset has a lot of duplicate sequences, make sure that the testing data only contain unique sequences and that these sequences do not exist in the training data. Condense training data and testing data into two sets. Take the difference between the testing set and training set to remove the overlapped sequences from the testing data. \n",
        "\n",
        "(5) The sequences from each class can be repetitive, and some of these sequences may have different labels. Therefore, we need to remove the duplicate sequences within each class and the overlapped sequences from the Intrusion class. Start out by separating the Normal class and Intrusion class in the training data. Use the same concept in Question 4 to remove duplicate sequences and overlapped sequences from the training data.\n",
        "\n",
        "(6) Repeat Question 5 to clean the testing data.\n",
        "\n",
        "(7) Bootstrap the training data to get the same number of sequences from each class. Train and evaluate a Decision Tree model using the training data and testing data that we just clean. How is the performance?\n",
        "\n",
        "(8) Randomly sample 100 pairs of sequences from both classes and calculate the median cosine similarity.\n",
        "\n",
        "(9) Refer back to Question 2, parse the data into a length of 5, 10, 15, and 20. Clean the data from each class using Question 5. For each sequence length, calculate the median cosine similarity of 100 random pairs of sequences from both classes. \n",
        "\n",
        "(10) Plot a line chart to visualize how the median cosine similarities vary through different sequence lengths from 5 to 25.\n"
      ]
    },
    {
      "cell_type": "code",
      "execution_count": 7,
      "id": "5f20d853",
      "metadata": {
        "colab": {
          "base_uri": "https://localhost:8080/"
        },
        "id": "5f20d853",
        "outputId": "64602ddc-0f57-4bda-ddd2-7b3600532b79"
      },
      "outputs": [
        {
          "output_type": "stream",
          "name": "stdout",
          "text": [
            "   PID  SystemCalls\n",
            "0  167           90\n",
            "1  167          125\n",
            "\n",
            "   PID  SystemCalls\n",
            "0  167           90\n",
            "1  167          125\n"
          ]
        }
      ],
      "source": [
        "#### You code here\n",
        "# 1.)\n",
        "import pandas as pd\n",
        "import numpy as np\n",
        "\n",
        "# load data from git\n",
        "df1 = pd.read_csv(\"https://raw.githubusercontent.com/unt-iialab/info5502-spring2022/main/finalexam/q4/inetd-intrusion.int\", sep = \" \", header = None)\n",
        "df2 = pd.read_csv(\"https://raw.githubusercontent.com/unt-iialab/info5502-spring2022/main/finalexam/q4/inetd-normal.int\", sep = \" \", header = None)\n",
        "\n",
        "df1.columns = ['PID', 'SystemCalls']\n",
        "df2.columns = ['PID', 'SystemCalls']\n",
        "\n",
        "print(df1.head(2))\n",
        "print()\n",
        "print(df2.head(2))\n"
      ]
    },
    {
      "cell_type": "code",
      "execution_count": 8,
      "id": "8a61c7eb",
      "metadata": {
        "colab": {
          "base_uri": "https://localhost:8080/"
        },
        "id": "8a61c7eb",
        "outputId": "ec44b2c5-c921-4ac7-8c82-38afa85677e7"
      },
      "outputs": [
        {
          "output_type": "stream",
          "name": "stdout",
          "text": [
            "(8371, 2)\n",
            "(541, 2)\n"
          ]
        }
      ],
      "source": [
        "print(df1.shape)\n",
        "print(df2.shape)"
      ]
    },
    {
      "cell_type": "code",
      "execution_count": 26,
      "id": "1577b114",
      "metadata": {
        "colab": {
          "base_uri": "https://localhost:8080/",
          "height": 36
        },
        "id": "1577b114",
        "outputId": "4b564e80-2dd0-48e3-ec1c-33e95ef023e3"
      },
      "outputs": [
        {
          "output_type": "execute_result",
          "data": {
            "text/plain": [
              "'90 125 125 106 5 90 6 5 3 90 90 90 90 6 125 91 125 125 125 136 49 24 47 50 45 45 5 106 106 106 106 106 2 1'"
            ],
            "application/vnd.google.colaboratory.intrinsic+json": {
              "type": "string"
            }
          },
          "metadata": {},
          "execution_count": 26
        }
      ],
      "source": [
        "dict1 = {}\n",
        "dict2 = {}\n",
        "\n",
        "# combining system calls\n",
        "for pid in list(set(df1['PID'].values)):\n",
        "    dict1[pid] = \" \".join(str(value) for value in list(df1[df1['PID'] == pid]['SystemCalls'].values))\n",
        "\n",
        "for pid in list(set(df2['PID'].values)):\n",
        "    dict2[pid] = \" \".join(str(value) for value in list(df2[df2['PID'] == pid]['SystemCalls'].values))\n",
        "\n",
        "dict1[167]"
      ]
    },
    {
      "cell_type": "code",
      "execution_count": 13,
      "id": "6973ca24",
      "metadata": {
        "colab": {
          "base_uri": "https://localhost:8080/"
        },
        "id": "6973ca24",
        "outputId": "255e7b7e-5579-439d-b5d5-621f5e6b52d0"
      },
      "outputs": [
        {
          "output_type": "stream",
          "name": "stdout",
          "text": [
            "7627\n",
            "469\n"
          ]
        }
      ],
      "source": [
        "import re\n",
        "from nltk.util import ngrams\n",
        "list1 = []\n",
        "list2 = []\n",
        "\n",
        "# generating ngrams with sequence length of 25\n",
        "\n",
        "for key in dict1.keys():\n",
        "    x = dict1[key]\n",
        "    tokens = [token for token in x.split(\" \") if token != \"\"]\n",
        "    \n",
        "    for i in list(ngrams(tokens, 25)):\n",
        "        list1.append(i)\n",
        "        \n",
        "for key in dict2.keys():\n",
        "    x = dict2[key]\n",
        "    tokens = [token for token in x.split(\" \") if token != \"\"]\n",
        "    \n",
        "    for i in list(ngrams(tokens, 25)):\n",
        "        list2.append(i)\n",
        "\n",
        "print(len(list1))\n",
        "print(len(list2))"
      ]
    },
    {
      "cell_type": "code",
      "execution_count": 17,
      "id": "b962057a",
      "metadata": {
        "colab": {
          "base_uri": "https://localhost:8080/"
        },
        "id": "b962057a",
        "outputId": "c96b152e-65db-4b4e-8ddd-10820e6f4dda"
      },
      "outputs": [
        {
          "output_type": "stream",
          "name": "stdout",
          "text": [
            "(7627, 26)\n",
            "(469, 26)\n"
          ]
        }
      ],
      "source": [
        "intr_df = pd.DataFrame(list1)\n",
        "norm_df = pd.DataFrame(list2)\n",
        "\n",
        "# adding labels to intrusion and normal data sequences\n",
        "intr_df['class'] = 1\n",
        "norm_df['class'] = 0\n",
        "\n",
        "print(intr_df.shape)\n",
        "print(norm_df.shape)"
      ]
    },
    {
      "cell_type": "code",
      "execution_count": 20,
      "id": "07983f99",
      "metadata": {
        "colab": {
          "base_uri": "https://localhost:8080/"
        },
        "id": "07983f99",
        "outputId": "6fbf99c6-7c5f-40e4-ea07-1dee74dc2ef5"
      },
      "outputs": [
        {
          "output_type": "stream",
          "name": "stdout",
          "text": [
            "(8096, 26)\n"
          ]
        }
      ],
      "source": [
        "# combining intrusion and normal data frames \n",
        "\n",
        "comb_df = pd.DataFrame()\n",
        "\n",
        "comb_df = comb_df.append(intr_df)\n",
        "comb_df = comb_df.append(norm_df)\n",
        "\n",
        "print(comb_df.shape)"
      ]
    },
    {
      "cell_type": "code",
      "execution_count": 19,
      "id": "4f09bbfb",
      "metadata": {
        "colab": {
          "base_uri": "https://localhost:8080/"
        },
        "id": "4f09bbfb",
        "outputId": "c9a61e52-0056-4c66-dea9-40d90ad1f84d"
      },
      "outputs": [
        {
          "output_type": "execute_result",
          "data": {
            "text/plain": [
              "(333, 26)"
            ]
          },
          "metadata": {},
          "execution_count": 19
        }
      ],
      "source": [
        "# dropping duplicates...\n",
        "comb_df = comb_df.drop_duplicates(subset = comb_df.columns[:-1], keep = 'last')\n",
        "comb_df.shape"
      ]
    },
    {
      "cell_type": "code",
      "execution_count": 21,
      "id": "f46f9e88",
      "metadata": {
        "colab": {
          "base_uri": "https://localhost:8080/"
        },
        "id": "f46f9e88",
        "outputId": "a3bafd36-3058-44e0-c55e-3fc4b0231788"
      },
      "outputs": [
        {
          "output_type": "execute_result",
          "data": {
            "text/plain": [
              "1    7627\n",
              "0     469\n",
              "Name: class, dtype: int64"
            ]
          },
          "metadata": {},
          "execution_count": 21
        }
      ],
      "source": [
        "comb_df['class'].value_counts()"
      ]
    },
    {
      "cell_type": "code",
      "execution_count": 22,
      "id": "1ffbfe89",
      "metadata": {
        "colab": {
          "base_uri": "https://localhost:8080/"
        },
        "id": "1ffbfe89",
        "outputId": "5d95782e-0d1b-4f77-fba9-cb11ff1e3dea"
      },
      "outputs": [
        {
          "output_type": "execute_result",
          "data": {
            "text/plain": [
              "Index([ 0,  1,  2,  3,  4,  5,  6,  7,  8,  9, 10, 11, 12, 13, 14, 15, 16, 17,\n",
              "       18, 19, 20, 21, 22, 23, 24],\n",
              "      dtype='object')"
            ]
          },
          "metadata": {},
          "execution_count": 22
        }
      ],
      "source": [
        "comb_df.columns[:-1]"
      ]
    },
    {
      "cell_type": "code",
      "execution_count": 23,
      "id": "3065143a",
      "metadata": {
        "colab": {
          "base_uri": "https://localhost:8080/"
        },
        "id": "3065143a",
        "outputId": "fd5b6dd2-da43-4886-b061-f72f06b9ac41"
      },
      "outputs": [
        {
          "output_type": "stream",
          "name": "stdout",
          "text": [
            "              precision    recall  f1-score   support\n",
            "\n",
            "           0       0.17      0.08      0.11        91\n",
            "           1       0.95      0.98      0.96      1529\n",
            "\n",
            "    accuracy                           0.93      1620\n",
            "   macro avg       0.56      0.53      0.53      1620\n",
            "weighted avg       0.90      0.93      0.91      1620\n",
            "\n"
          ]
        }
      ],
      "source": [
        "# building a decision tree classifier\n",
        "from sklearn.tree import DecisionTreeClassifier\n",
        "from sklearn import preprocessing\n",
        "from sklearn.metrics import classification_report\n",
        "from sklearn.model_selection import train_test_split\n",
        "\n",
        "X = comb_df.drop(\"class\", axis = 1)\n",
        "Y = comb_df['class']\n",
        "\n",
        "X_train, X_valid, Y_train, Y_valid = train_test_split(X, Y, test_size = 0.2, random_state = 0)\n",
        "\n",
        "dtclassifier = DecisionTreeClassifier(max_depth = 10)\n",
        "dtclassifier.fit(X_train, Y_train)\n",
        "Y_pred = dtclassifier.predict(X_valid)\n",
        "\n",
        "print(classification_report(Y_valid, Y_pred))\n"
      ]
    },
    {
      "cell_type": "markdown",
      "id": "6dbdd51a",
      "metadata": {
        "id": "6dbdd51a"
      },
      "source": [
        "# Similarity scores for NGram range of 5 to 25"
      ]
    },
    {
      "cell_type": "code",
      "execution_count": 24,
      "id": "0cf89814",
      "metadata": {
        "colab": {
          "base_uri": "https://localhost:8080/"
        },
        "id": "0cf89814",
        "outputId": "8587afc1-df0b-4618-a210-1e128c988b58"
      },
      "outputs": [
        {
          "output_type": "stream",
          "name": "stdout",
          "text": [
            "(8776, 6)\n",
            "\n",
            "(168, 6)\n",
            "\n",
            "0.7662126078776809\n",
            "\n",
            "(8606, 11)\n",
            "\n",
            "(213, 11)\n",
            "\n",
            "0.7231040978197195\n",
            "\n",
            "(8436, 16)\n",
            "\n",
            "(254, 16)\n",
            "\n",
            "0.7279942684685707\n",
            "\n",
            "(8266, 21)\n",
            "\n",
            "(293, 21)\n",
            "\n",
            "0.705582377317207\n",
            "\n",
            "(8096, 26)\n",
            "\n",
            "(333, 26)\n",
            "\n",
            "0.7175731523396192\n",
            "\n"
          ]
        }
      ],
      "source": [
        "import re\n",
        "from nltk.util import ngrams\n",
        "import pandas as pd\n",
        "\n",
        "cosine_similar_ngram = {}\n",
        "\n",
        "for ngram in range(5, 26, 5):\n",
        "\n",
        "    df1 = pd.read_csv(\"https://raw.githubusercontent.com/unt-iialab/info5502-spring2022/main/finalexam/q4/inetd-intrusion.int\", sep = \" \", header = None)\n",
        "    df2 = pd.read_csv(\"https://raw.githubusercontent.com/unt-iialab/info5502-spring2022/main/finalexam/q4/inetd-normal.int\", sep = \" \", header = None)\n",
        "\n",
        "    df1.columns = ['PID', 'SystemCalls']\n",
        "    df2.columns = ['PID', 'SystemCalls']\n",
        "\n",
        "    dict1 = {}\n",
        "    dict2 = {}\n",
        "\n",
        "    for pid in list(set(df1['PID'].values)):\n",
        "        dict1[pid] = \" \".join(str(value) for value in list(df1[df1['PID'] == pid]['SystemCalls'].values))\n",
        "\n",
        "    for pid in list(set(df2['PID'].values)):\n",
        "        dict2[pid] = \" \".join(str(value) for value in list(df2[df2['PID'] == pid]['SystemCalls'].values))\n",
        "\n",
        "    list1 = []\n",
        "    list2 = []\n",
        "    for key in dict1.keys():\n",
        "        s = dict1[key]\n",
        "        tokens = [token for token in s.split(\" \") if token != \"\"]\n",
        "\n",
        "        for i in list(ngrams(tokens, ngram)):\n",
        "            list1.append(i)\n",
        "\n",
        "    for key in dict2.keys():\n",
        "        x = dict2[key]\n",
        "        tokens = [token for token in x.split(\" \") if token != \"\"]\n",
        "\n",
        "        for i in list(ngrams(tokens, ngram)):\n",
        "            list2.append(i)\n",
        "\n",
        "    intr_df = pd.DataFrame(list1)\n",
        "    norm_df = pd.DataFrame(list2)\n",
        "\n",
        "    intr_df['class'] = 1\n",
        "    norm_df['class'] = 0\n",
        "\n",
        "    comb_df = pd.DataFrame()\n",
        "\n",
        "    comb_df = comb_df.append(intr_df)\n",
        "    comb_df = comb_df.append(norm_df)\n",
        "\n",
        "    print(comb_df.shape)\n",
        "    print()\n",
        "\n",
        "\n",
        "    comb_df = comb_df.drop_duplicates(subset = comb_df.columns[:-1], keep = 'last')\n",
        "    print(comb_df.shape)\n",
        "    print()\n",
        "\n",
        "    from sklearn.metrics.pairwise import cosine_similarity\n",
        "    import statistics\n",
        "\n",
        "    similarities_list = []\n",
        "    for i in range(0, 100):\n",
        "        list_1 = list(comb_df[comb_df['class'] == 0].sample(n = 1).iloc[0, :].values)\n",
        "        list_2 = list(comb_df[comb_df['class'] == 1].sample(n = 1).iloc[0, :].values)\n",
        "        try:\n",
        "            similarities_list.append(cosine_similarity([list_1], [list_2]))\n",
        "        except Exception as e:\n",
        "            print(e)\n",
        "            print(list_1, list_2)\n",
        "\n",
        "    print(statistics.median(similarities_list)[0][0])\n",
        "    print()\n",
        "    cosine_similar_ngram[ngram] = statistics.median(similarities_list)[0][0]\n",
        "    "
      ]
    },
    {
      "cell_type": "code",
      "execution_count": 25,
      "id": "6d67292f",
      "metadata": {
        "colab": {
          "base_uri": "https://localhost:8080/",
          "height": 471
        },
        "id": "6d67292f",
        "outputId": "502f3a71-0e49-4c99-e098-aec144469ba8"
      },
      "outputs": [
        {
          "output_type": "display_data",
          "data": {
            "text/plain": [
              "<Figure size 720x504 with 1 Axes>"
            ],
            "image/png": "[encoded data removed]"
          },
          "metadata": {
            "needs_background": "light"
          }
        }
      ],
      "source": [
        "import matplotlib.pyplot as plt\n",
        "import seaborn as sns\n",
        "\n",
        "cosine_similar_ngram_df = pd.DataFrame({\"Ngram\":list(cosine_similar_ngram.keys()), \"Similarity_scores\": list(cosine_similar_ngram.values())})\n",
        "\n",
        "\n",
        "plt.rcParams['figure.figsize'] = [10, 7]\n",
        "\n",
        "# we iterate through each ngram range class and plot the line chart\n",
        "sns.lineplot(x = \"Ngram\", y = \"Similarity_scores\", data = cosine_similar_ngram_df)\n",
        "    \n",
        "plt.title(\"Line chart of cosine similarity scores\")\n",
        "plt.xlabel(\"Ngram\")\n",
        "plt.ylabel(\"Cosine similarity scores\")\n",
        "plt.xticks(rotation = 90)\n",
        "plt.show()"
      ]
    },
    {
      "cell_type": "code",
      "execution_count": null,
      "id": "7904d482",
      "metadata": {
        "id": "7904d482"
      },
      "outputs": [],
      "source": [
        ""
      ]
    }
  ],
  "metadata": {
    "kernelspec": {
      "display_name": "Python 3 (ipykernel)",
      "language": "python",
      "name": "python3"
    },
    "language_info": {
      "codemirror_mode": {
        "name": "ipython",
        "version": 3
      },
      "file_extension": ".py",
      "mimetype": "text/x-python",
      "name": "python",
      "nbconvert_exporter": "python",
      "pygments_lexer": "ipython3",
      "version": "3.9.7"
    },
    "colab": {
      "name": "INFO 5502-Final Exam--Q3--Spring2022.ipynb",
      "provenance": []
    }
  },
  "nbformat": 4,
  "nbformat_minor": 5
}