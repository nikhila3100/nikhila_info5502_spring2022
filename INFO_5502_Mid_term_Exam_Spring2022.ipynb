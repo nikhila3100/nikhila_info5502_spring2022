{
  "cells": [
    {
      "cell_type": "markdown",
      "metadata": {
        "id": "view-in-github",
        "colab_type": "text"
      },
      "source": [
        "<a href=\"https://colab.research.google.com/github/nikhila3100/nikhila_info5502_spring2022/blob/main/INFO_5502_Mid_term_Exam_Spring2022.ipynb\" target=\"_parent\"><img src=\"https://colab.research.google.com/assets/colab-badge.svg\" alt=\"Open In Colab\"/></a>"
      ]
    },
    {
      "cell_type": "markdown",
      "metadata": {
        "id": "ErIoLu3Ism7H"
      },
      "source": [
        "### INFO 5502 Mid-term Exam (03/10/2022, 80 points in total)"
      ]
    },
    {
      "cell_type": "markdown",
      "metadata": {
        "id": "I_bDUXE8sm7I"
      },
      "source": [
        "<span style='background:yellow'>**Question 1 (5 pt).**</span> Make an array called `weird_numbers` containing the following numbers (in the given order):\n",
        "\n",
        "1. -3\n",
        "2. the sine of 2.1\n",
        "3. 5\n",
        "4. 4 to the power of the cosine of 4.2\n",
        "\n",
        "*Hint:* `sin` and `cos` are functions in the `math` module."
      ]
    },
    {
      "cell_type": "code",
      "execution_count": null,
      "metadata": {
        "colab": {
          "base_uri": "https://localhost:8080/"
        },
        "id": "SvrVJXEbsm7J",
        "outputId": "e72d903e-677f-4e89-a48a-488b94c3fe50"
      },
      "outputs": [
        {
          "output_type": "execute_result",
          "data": {
            "text/plain": [
              "[-3, 0.8632093666488737, 5, 0.5067964617539602]"
            ]
          },
          "metadata": {},
          "execution_count": 14
        }
      ],
      "source": [
        "#### You code here\n",
        "\n",
        "import numpy as np\n",
        "import math as math\n",
        "weird_numbers=[]\n",
        "weird_numbers.append(-3)\n",
        "weird_numbers.append(math.sin(2.1))\n",
        "weird_numbers.append(5)\n",
        "weird_numbers.append(pow(4,math.cos(4.2)))  \n",
        "weird_numbers\n"
      ]
    },
    {
      "cell_type": "markdown",
      "metadata": {
        "id": "QlxWbOSxsm7J"
      },
      "source": [
        "<span style='background:yellow'>**Question 2 (5 pt).**</span> Write a simple function that takes in a number (weight in pounds) and returns a number which is the coreesponding conversion to kg.\n",
        "\n",
        "Test it by calling the function on 15 and 27. E.g., `convert_pounds_to_kg(15)`, `convert_pounds_to_kg(27)`. Print both to screen.\n",
        "\n",
        "Hint: 1 pound = 0.453592 kg"
      ]
    },
    {
      "cell_type": "code",
      "execution_count": null,
      "metadata": {
        "colab": {
          "base_uri": "https://localhost:8080/",
          "height": 234
        },
        "id": "LiEpHxmXsm7K",
        "outputId": "3b355ed7-73a8-457e-992e-b5160b8ae32e"
      },
      "outputs": [
        {
          "output_type": "error",
          "ename": "NameError",
          "evalue": "ignored",
          "traceback": [
            "\u001b[0;31m---------------------------------------------------------------------------\u001b[0m",
            "\u001b[0;31mNameError\u001b[0m                                 Traceback (most recent call last)",
            "\u001b[0;32m<ipython-input-9-b595b0c9f70f>\u001b[0m in \u001b[0;36m<module>\u001b[0;34m()\u001b[0m\n\u001b[1;32m      4\u001b[0m     \u001b[0;34m\"\"\"Converts a number in pounds to kg.\"\"\"\u001b[0m\u001b[0;34m\u001b[0m\u001b[0;34m\u001b[0m\u001b[0m\n\u001b[1;32m      5\u001b[0m     \u001b[0mpounds\u001b[0m \u001b[0;34m=\u001b[0m \u001b[0mfloat\u001b[0m\u001b[0;34m(\u001b[0m\u001b[0minput\u001b[0m\u001b[0;34m(\u001b[0m\u001b[0;34m'Enter weight in Pounds(Lbs) to Convert into Kilograms:'\u001b[0m\u001b[0;34m)\u001b[0m\u001b[0;34m)\u001b[0m\u001b[0;34m\u001b[0m\u001b[0;34m\u001b[0m\u001b[0m\n\u001b[0;32m----> 6\u001b[0;31m \u001b[0mkilo_grams\u001b[0m \u001b[0;34m=\u001b[0m \u001b[0mpounds\u001b[0m \u001b[0;34m*\u001b[0m \u001b[0;36m0.453592\u001b[0m\u001b[0;34m\u001b[0m\u001b[0;34m\u001b[0m\u001b[0m\n\u001b[0m\u001b[1;32m      7\u001b[0m \u001b[0;34m\u001b[0m\u001b[0m\n\u001b[1;32m      8\u001b[0m \u001b[0;34m\u001b[0m\u001b[0m\n",
            "\u001b[0;31mNameError\u001b[0m: name 'pounds' is not defined"
          ]
        }
      ],
      "source": [
        "#### You code here\n",
        "\n",
        "def convert_pounds_to_kg(number):\n",
        "    \"\"\"Converts a number in pounds to kg.\"\"\"\n",
        "    pounds = float(input('Enter weight in Pounds(Lbs) to Convert into Kilograms:'))\n",
        "kilo_grams = pounds * 0.453592\n",
        "print(convert_pounds_to_kg(15))\n",
        "print(convert_pounds_to_kg(27))\n"
      ]
    },
    {
      "cell_type": "markdown",
      "metadata": {
        "id": "ieWz1CE2sm7K"
      },
      "source": [
        "<span style='background:yellow'>**Question 3 (5 pt).**</span> We've loaded an array of temperatures in the next cell.  Each number is the highest temperature observed on a day at a climate observation station, mostly from the US.  Since they're from the US government agency [NOAA](noaa.gov), all the temperatures are in Fahrenheit.  Convert them all to Celsius by first subtracting 32 from them, then multiplying the results by $\\frac{5}{9}$. Make sure to **ROUND** the final result after converting to Celsius to the nearest integer using the `np.round` function. Download the data from here: https://github.com/unt-iialab/info5502-spring2022/blob/main/datasets/temperatures.csv"
      ]
    },
    {
      "cell_type": "code",
      "execution_count": null,
      "metadata": {
        "id": "mdnmf9BGsm7L"
      },
      "outputs": [],
      "source": [
        "#### You code here\n",
        "import numpy as np\n",
        "import pandas as pd\n",
        "from datascience import *\n",
        "dt = pd.read_csv(\" https://github.com/unt-iialab/info5502-spring2022/blob/main/datasets/temperatures.csv\")\n",
        "max_temperatures = Table.read_table(\"temperatures.csv\").column(\"Daily Max Temperature\")\n",
        "celsius_max_temperatures =np.round((max_temperatures-32)*5/9)\n",
        "celsius_max_temperatures\n",
        "\n"
      ]
    },
    {
      "cell_type": "markdown",
      "metadata": {
        "id": "cztMXj0tsm7L"
      },
      "source": [
        "<span style='background:yellow'>**Question 4 (5 pt).**</span> Suppose you have 4 apples, 3 oranges, and 3 pineapples.  (Perhaps you're using Python to solve a high school Algebra problem.)  Create a table that contains this information.  It should have two columns: `fruit name` and `count`.  Assign the new table to the variable `fruits`.\n",
        "\n",
        "**Note:** Use lower-case and singular words for the name of each fruit, like `\"apple\"`."
      ]
    },
    {
      "cell_type": "code",
      "execution_count": 41,
      "metadata": {
        "colab": {
          "base_uri": "https://localhost:8080/",
          "height": 143
        },
        "id": "OE1m62ojsm7L",
        "outputId": "157ca027-438c-424c-f8ef-3d7e83c3049a"
      },
      "outputs": [
        {
          "output_type": "execute_result",
          "data": {
            "text/html": [
              "<table border=\"1\" class=\"dataframe\">\n",
              "    <thead>\n",
              "        <tr>\n",
              "            <th>fruit name</th> <th>count</th>\n",
              "        </tr>\n",
              "    </thead>\n",
              "    <tbody>\n",
              "        <tr>\n",
              "            <td>apple     </td> <td>4    </td>\n",
              "        </tr>\n",
              "        <tr>\n",
              "            <td>orange    </td> <td>3    </td>\n",
              "        </tr>\n",
              "        <tr>\n",
              "            <td>pineapple </td> <td>3    </td>\n",
              "        </tr>\n",
              "    </tbody>\n",
              "</table>"
            ],
            "text/plain": [
              "fruit name | count\n",
              "apple      | 4\n",
              "orange     | 3\n",
              "pineapple  | 3"
            ]
          },
          "metadata": {},
          "execution_count": 41
        }
      ],
      "source": [
        "#### You code here\n",
        "import numpy as np\n",
        "from datascience import *\n",
        "fruits =Table().with_columns(\"fruit name\", make_array(\"apple\",\"orange\",\"pineapple\"),\"count\", make_array(\"4\",\"3\",\"3\"))\n",
        "fruits\n",
        "\n",
        "\n"
      ]
    },
    {
      "cell_type": "markdown",
      "metadata": {
        "id": "nD7EmeGlsm7L"
      },
      "source": [
        "<span style='background:yellow'>**Question 5 (10 pt).**</span> Below we load a table containing 200,000 weekday Uber rides in the Boston, Massachusetts metropolitan area from the [Uber Movement](https://movement.uber.com) project. The `sourceid` and `dstid` columns contain codes corresponding to start and end locations of each ride. The `hod` column contains codes corresponding to the hour of the day the ride took place. The `ride time` column contains the length of the ride, in minutes. Produce a histogram of all ride times in Boston using the given bins. Download the data from here: https://github.com/unt-iialab/info5502-spring2022/blob/main/datasets/boston.csv"
      ]
    },
    {
      "cell_type": "code",
      "execution_count": 56,
      "metadata": {
        "id": "iQOFQCdJsm7M",
        "colab": {
          "base_uri": "https://localhost:8080/"
        },
        "outputId": "808eb2e0-57aa-4679-b0a7-98f0bc88750f"
      },
      "outputs": [
        {
          "output_type": "stream",
          "name": "stdout",
          "text": [
            "[0, 1, 2, 3, 4, 5, 6, 7, 8, 9, 10, 11, 12, 13, 14, 15, 16, 17, 18, 19, 20, 21, 22, 23]\n"
          ]
        }
      ],
      "source": [
        "#### You code here\n",
        "import pandas as pd\n",
        "import matplotlib.pyplot as plt\n",
        "\n",
        "data = pd.read_csv(\"https://raw.githubusercontent.com/unt-iialab/info5502-spring2022/main/datasets/boston.csv\", sep = \",\")\n",
        "data.head()\n",
        "bins = list(set(data['hod'].values))\n",
        "print(bins)\n",
        "plt.rcParams['figure.figsize'] = [6, 5]\n",
        "plt.hist(data['ride time'], bins = bins, edgecolor=\"yellow\", color=\"green\")\n",
        "plt.xlabel(\"Ride Duration across bins\")\n",
        "plt.title(\"Histogram of Ride Time with hod as bins\")\n",
        "plt.show()\n"
      ]
    },
    {
      "cell_type": "markdown",
      "source": [
        ""
      ],
      "metadata": {
        "id": "6Zb-BtVm-GM5"
      }
    },
    {
      "cell_type": "markdown",
      "metadata": {
        "id": "x9DpoYNvsm7M"
      },
      "source": [
        "<span style='background:yellow'>**Question 6 (20 pt).**</span> Below is a dataset we collected from this website: https://ddr.densho.org/narrators/?page=1. Narrators are the interview subjects of oral histories contained in the Densho Digital Repository. The interviewees, or narrators, share their life histories to preserve history, educate the public, and promote tolerance. We urge our users to approach these materials in the same spirit. You are required to conduct the exploratory data analysis on the location, year of born, generation, and gender. Please select the best visualiztions to present your results. Download the data from here: https://github.com/unt-iialab/info5502-spring2022/blob/main/datasets/Combined-data.xlsx"
      ]
    },
    {
      "cell_type": "code",
      "execution_count": null,
      "metadata": {
        "id": "Jj7JZqLrsm7M"
      },
      "outputs": [],
      "source": [
        "#### You code here\n",
        "import pandas as pd\n",
        "import matplotlib.pyplot as plt\n",
        "import seaborn as sns\n",
        "\n",
        "data1 = pd.read_excel(\"https://github.com/unt-iialab/info5502-spring2022/blob/main/datasets/Combined-data.xlsx\")\n",
        "\n",
        "# dropping the rows that have null values in  Year column\n",
        "data1 = data1[pd.notnull(data1['Year'])]\n",
        "# type casting the data type of Year column to integer\n",
        "data1['Year'] = data1['Year'].astype('int64').astype('str')\n",
        "plt.rcParams['figure.figsize'] = [30, 15]\n",
        "ax = sns.countplot(x='Year', data=data1)\n",
        "plt.xlabel(\"Year of Birth of Narrator\")\n",
        "plt.ylabel(\"Count of Years\")\n",
        "plt.xticks(rotation=90)\n",
        "plt.show()\n",
        "\n",
        "# dropping the rows that have null values in  Generation column\n",
        "data1 = data1[pd.notnull(data1['Generation'])]\n",
        "plt.rcParams['figure.figsize'] = [20, 15]\n",
        "ax = sns.countplot(x='Generation', data=data1)\n",
        "plt.xlabel(\"Generation of Narrator\")\n",
        "plt.ylabel(\"Count of Generations\")\n",
        "plt.xticks(rotation=90)\n",
        "plt.show()\n",
        "\n",
        "# dropping the rows that have null values in  Location column\n",
        "data1 = data1[pd.notnull(data1['Location'])]\n",
        "plt.rcParams['figure.figsize'] = [30, 15]\n",
        "ax = sns.countplot(x='Location', data=data1)\n",
        "plt.xlabel(\"Location of Birth of Narrator\")\n",
        "plt.ylabel(\"Count of Locations\")\n",
        "plt.xticks(rotation=90)\n",
        "plt.show()\n",
        "\n",
        "\n",
        "# dropping the rows that have null values in  Location column\n",
        "data1 = data1[pd.notnull(data1['Gender'])]\n",
        "plt.rcParams['figure.figsize'] = [5, 5]\n",
        "ax = sns.countplot(x='Gender', data=data1)\n",
        "plt.xlabel(\"Gender Narrator\")\n",
        "plt.ylabel(\"Count of Gender\")\n",
        "plt.xticks(rotation=90)\n",
        "plt.show()\n",
        "\n",
        "\n",
        "\n",
        "\n"
      ]
    },
    {
      "cell_type": "markdown",
      "metadata": {
        "id": "t-tlcDj8sm7M"
      },
      "source": [
        "<span style='background:yellow'>**Question 7.**</span> **Monkeys Typing Shakespeare** A monkey is banging repeatedly on the keys of a typewriter. Each time, the monkey is equally likely to hit any of the 26 lowercase letters of the English alphabet, 26 uppercase letters of the English alphabet, and any number between 0-9 (inclusive), regardless of what it has hit before. There are no other keys on the keyboard.  \n",
        "\n",
        "This question is inspired by a mathematical theorem called the Infinite monkey theorem (<https://en.wikipedia.org/wiki/Infinite_monkey_theorem>), which postulates that if you put a monkey in the situation described above for an infinite time, they will eventually type out all of Shakespeare’s works."
      ]
    },
    {
      "cell_type": "markdown",
      "metadata": {
        "id": "amKh-gOdsm7M"
      },
      "source": [
        "<span style='background:yellow'>**Question 7-1 (10 pt).**</span> Suppose the monkey hits the keyboard 5 times.  Compute the chance that the monkey types the sequence `Data8`.  (Call this `data_chance`.) Use algebra and type in an arithmetic equation that Python can evalute."
      ]
    },
    {
      "cell_type": "code",
      "execution_count": 59,
      "metadata": {
        "id": "OeLpoBk_sm7N",
        "colab": {
          "base_uri": "https://localhost:8080/"
        },
        "outputId": "cd0a4cab-6688-4e18-b8d4-68f83600193d"
      },
      "outputs": [
        {
          "output_type": "execute_result",
          "data": {
            "text/plain": [
              "0.08064516129032258"
            ]
          },
          "metadata": {},
          "execution_count": 59
        }
      ],
      "source": [
        "#### You code here\n",
        "data_chance=(1/62)*5\n",
        "data_chance\n",
        "\n"
      ]
    },
    {
      "cell_type": "markdown",
      "metadata": {
        "id": "zK6r2x2bsm7N"
      },
      "source": [
        "<span style='background:yellow'>**Question 7-2 (10 pt).**</span> Write a function called `simulate_key_strike`.  It should take **no arguments**, and it should return a random one-character string that is equally likely to be any of the 26 lower-case English letters, 26 upper-case English letters, or any number between 0-9 (inclusive). "
      ]
    },
    {
      "cell_type": "code",
      "execution_count": 32,
      "metadata": {
        "id": "E4xdcbIAsm7N",
        "colab": {
          "base_uri": "https://localhost:8080/",
          "height": 35
        },
        "outputId": "113ead84-111f-49ff-fcca-3b762f3d2b56"
      },
      "outputs": [
        {
          "output_type": "execute_result",
          "data": {
            "application/vnd.google.colaboratory.intrinsic+json": {
              "type": "string"
            },
            "text/plain": [
              "'x'"
            ]
          },
          "metadata": {},
          "execution_count": 32
        }
      ],
      "source": [
        "#### You code here\n",
        "\n",
        "import string\n",
        "letters =list(string.ascii_lowercase)\n",
        "def simulate_key_strike():\n",
        "  return np.random.choice(letters)\n",
        "simulate_key_strike()\n"
      ]
    },
    {
      "cell_type": "markdown",
      "metadata": {
        "id": "gTr3W1EGsm7N"
      },
      "source": [
        "<span style='background:yellow'>**Question 7-3 (10 pt).**</span> Write a function called `simulate_several_key_strikes`.  It should take one argument: an integer specifying the number of key strikes to simulate. It should return a string containing that many characters, each one obtained from simulating a key strike by the monkey.\n",
        "\n",
        "*Hint:* If you make a list or array of the simulated key strikes called `key_strikes_array`, you can convert that to a string by calling `\"\".join(key_strikes_array)`"
      ]
    },
    {
      "cell_type": "code",
      "source": [
        "from datascience import *\n",
        "def simulate_several_key_strikes(num_strikes):\n",
        "  key_strikes_array = make_array()\n",
        "  for i in np.arange(num_strikes):\n",
        "    key_strikes_array =np.append(key_strikes_array, simulate_key_strike())\n",
        "simulate_several_key_strikes(11)"
      ],
      "metadata": {
        "id": "6QHAKskoJL75"
      },
      "execution_count": 62,
      "outputs": []
    },
    {
      "cell_type": "markdown",
      "source": [
        ""
      ],
      "metadata": {
        "id": "K520kC-6JLpe"
      }
    }
  ],
  "metadata": {
    "kernelspec": {
      "display_name": "Python 3",
      "language": "python",
      "name": "python3"
    },
    "language_info": {
      "codemirror_mode": {
        "name": "ipython",
        "version": 3
      },
      "file_extension": ".py",
      "mimetype": "text/x-python",
      "name": "python",
      "nbconvert_exporter": "python",
      "pygments_lexer": "ipython3",
      "version": "3.8.5"
    },
    "colab": {
      "name": "INFO 5502-Mid-term Exam-Spring2022.ipynb",
      "provenance": [],
      "include_colab_link": true
    }
  },
  "nbformat": 4,
  "nbformat_minor": 0
}