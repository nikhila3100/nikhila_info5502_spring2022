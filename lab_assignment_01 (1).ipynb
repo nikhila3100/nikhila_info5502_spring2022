{
 "cells": [
  {
   "cell_type": "markdown",
   "metadata": {
    "colab_type": "text",
    "id": "view-in-github"
   },
   "source": [
    "<a href=\"https://colab.research.google.com/github/unt-iialab/INFO5731_Spring2020/blob/master/In_class_exercise/In_class_exercise_01.ipynb\" target=\"_parent\"><img src=\"https://colab.research.google.com/assets/colab-badge.svg\" alt=\"Open In Colab\"/></a>"
   ]
  },
  {
   "cell_type": "markdown",
   "metadata": {
    "colab_type": "text",
    "id": "DymRJbxDBCnf"
   },
   "source": [
    "# **The first Lab-assignment (01/25/2022, 50 points in total)**"
   ]
  },
  {
   "cell_type": "markdown",
   "metadata": {
    "colab_type": "text",
    "id": "jJDe71iLB616"
   },
   "source": [
    "(1) Write a Python program to count the number of characters in a string. (5 points)\n",
    "\n",
    "Sample String : 'google.com', \n",
    "\n",
    "Expected Result : {'o': 3, 'g': 2, '.': 1, 'e': 1, 'l': 1, 'm': 1, 'c': 1}"
   ]
  },
  {
   "cell_type": "code",
   "execution_count": 45,
   "metadata": {
    "colab": {},
    "colab_type": "code",
    "id": "MtKskTzbCLaU"
   },
   "outputs": [
    {
     "name": "stdout",
     "output_type": "stream",
     "text": [
      "{'g': 2, 'o': 3, 'l': 1, 'e': 1, '.': 1, 'c': 1, 'm': 1}\n"
     ]
    }
   ],
   "source": [
    "def no_of_char(str):\n",
    "    dict = {}\n",
    "    for i in str:\n",
    "        keys = dict.keys()\n",
    "        if i in keys:\n",
    "            dict[i] += 1\n",
    "        else:\n",
    "            dict[i] = 1\n",
    "    return dict\n",
    "print(no_of_char('google.com'))"
   ]
  },
  {
   "cell_type": "markdown",
   "metadata": {
    "colab_type": "text",
    "id": "55W9AMdXCSpV"
   },
   "source": [
    "(2) Write a Python program to sum all the items in a list. (5 points)"
   ]
  },
  {
   "cell_type": "code",
   "execution_count": 46,
   "metadata": {
    "colab": {},
    "colab_type": "code",
    "id": "I57NXsauCec2"
   },
   "outputs": [
    {
     "name": "stdout",
     "output_type": "stream",
     "text": [
      "sum: 10\n",
      "sum: 25\n",
      "sum: 45\n",
      "sum: 70\n",
      "sum: 100\n"
     ]
    }
   ],
   "source": [
    "tot=0\n",
    "list=[10,15,20,25,30]\n",
    "for i in list:\n",
    "    tot+=i\n",
    "    print(\"sum:\",tot)\n"
   ]
  },
  {
   "cell_type": "markdown",
   "metadata": {
    "colab_type": "text",
    "id": "4ulBZ6yhCi9F"
   },
   "source": [
    "(3) Write a Python program to get a string from a given string where all occurrences of its first char have been changed to '\\$', except the first char itself. (5 points)\n",
    "\n",
    "Sample String : 'restart', \n",
    "\n",
    "Expected Result : 'resta\\$t'"
   ]
  },
  {
   "cell_type": "code",
   "execution_count": 47,
   "metadata": {
    "colab": {},
    "colab_type": "code",
    "id": "Fj0XhwbBCw2o"
   },
   "outputs": [
    {
     "name": "stdout",
     "output_type": "stream",
     "text": [
      "resta$t\n"
     ]
    }
   ],
   "source": [
    "str=\"restart\"\n",
    "char=str[0]\n",
    "length=len(str)\n",
    "str=str.replace(char,'$')\n",
    "str=char+str[1:]\n",
    "print(str)\n"
   ]
  },
  {
   "cell_type": "markdown",
   "metadata": {
    "colab_type": "text",
    "id": "_bIP7s1MCzue"
   },
   "source": [
    "(4) Write a program with python which could accept two parameter a and b to calculate and output the result of S, where \n",
    "\n",
    "$\\ S=3.14*(1+a/b)^3$ (5 points)\n",
    "\n"
   ]
  },
  {
   "cell_type": "code",
   "execution_count": 48,
   "metadata": {
    "colab": {},
    "colab_type": "code",
    "id": "w79QilHXD3Mg"
   },
   "outputs": [
    {
     "name": "stdout",
     "output_type": "stream",
     "text": [
      "9.15916225536383\n"
     ]
    }
   ],
   "source": [
    "import math\n",
    "def calc(a,b):\n",
    "  s=math.pi*(1+a/b)**3\n",
    "  return s\n",
    "print(calc(3,7))\n"
   ]
  },
  {
   "cell_type": "markdown",
   "metadata": {
    "colab_type": "text",
    "id": "xCa2bK9aD4Q3"
   },
   "source": [
    "(5) Write a Python program to concatenate following dictionaries to create a new one. (5 points)\n",
    "\n",
    "Sample Dictionary : dic1={1:10, 2:20}, dic2={3:30, 4:40}, dic3={5:50,6:60}, \n",
    "\n",
    "Expected Result : {1: 10, 2: 20, 3: 30, 4: 40, 5: 50, 6: 60}\n"
   ]
  },
  {
   "cell_type": "code",
   "execution_count": 22,
   "metadata": {
    "colab": {},
    "colab_type": "code",
    "id": "_z4aLqAbEET1"
   },
   "outputs": [
    {
     "name": "stdout",
     "output_type": "stream",
     "text": [
      "{1: 10, 2: 20, 3: 30, 4: 40, 5: 50, 6: 60}\n"
     ]
    }
   ],
   "source": [
    "dic1={1:10, 2:20}\n",
    "dic2={3:30, 4:40}\n",
    "dic3={5:50, 6:60}\n",
    "dic4={}\n",
    "for d in (dic1,dic2,dic3): dic4.update(d)\n",
    "print(dic4)\n"
   ]
  },
  {
   "cell_type": "markdown",
   "metadata": {
    "colab_type": "text",
    "id": "0v48Vqa7FrQh"
   },
   "source": [
    "(6) Write a Python program to check whether an element exists within a tuple. (5 points)"
   ]
  },
  {
   "cell_type": "code",
   "execution_count": 25,
   "metadata": {
    "colab": {},
    "colab_type": "code",
    "id": "7WEmgq-DF2P1"
   },
   "outputs": [
    {
     "name": "stdout",
     "output_type": "stream",
     "text": [
      "True\n",
      "False\n",
      "False\n"
     ]
    }
   ],
   "source": [
    "tuple = (\"n\", 1, \"i\", 2, \"k\", 3, \"h\", 4, \"i\",5, \"l\", 6, \"a\")\n",
    "print(\"k\" in tuple)\n",
    "print(7 in tuple)\n",
    "print(\"s\" in tuple)\n"
   ]
  },
  {
   "cell_type": "markdown",
   "metadata": {
    "colab_type": "text",
    "id": "vD5PYLMuGga_"
   },
   "source": [
    "(7) Write a Python program to find maximum and the minimum value in a set. (5 points)"
   ]
  },
  {
   "cell_type": "code",
   "execution_count": 28,
   "metadata": {
    "colab": {},
    "colab_type": "code",
    "id": "t0D5kdJUGjjw"
   },
   "outputs": [
    {
     "name": "stdout",
     "output_type": "stream",
     "text": [
      "max:\n",
      "50\n",
      "min:\n",
      "10\n"
     ]
    }
   ],
   "source": [
    "set = {10,20,30,40,50}\n",
    "print(\"max:\")\n",
    "print (max(set))\n",
    "print(\"min:\")\n",
    "print(min(set))\n",
    "\n"
   ]
  },
  {
   "cell_type": "markdown",
   "metadata": {
    "colab_type": "text",
    "id": "uHkd-y5VhVWC"
   },
   "source": [
    "(8) Write a Python program to randomly divide the students in this class into six groups for term projects, each group should have at least 4 students but no more than 6 students (including 6). Here is the students list: (5 points)\n",
    "\n",
    "studnet_list = ['ja0964','sa1198','sb1357','vb0218','sc1229','kg0569','kg0470','sg1297','bg0320','fh0141','jl1252','sk1386',\n",
    "           'ak0956','sk1390','sk1458','sk1313','ak0934','vm0377','nm0618','sm1640','sm1907','gn0108','pr0353','dr0609','ms1500','aos0040','ds0814', 'av0659','nv0234','hy0232']"
   ]
  },
  {
   "cell_type": "code",
   "execution_count": 42,
   "metadata": {
    "colab": {},
    "colab_type": "code",
    "id": "3iGbmcOBhTwy"
   },
   "outputs": [
    {
     "data": {
      "text/plain": [
       "[['ja0964', 'sa1198', 'sb1357', 'vb0218', 'sc1229'],\n",
       " ['kg0569', 'kg0470', 'sg1297', 'bg0320', 'fh0141'],\n",
       " ['jl1252', 'sk1386', 'ak0956', 'sk1390', 'sk1458'],\n",
       " ['sk1313', 'ak0934', 'vm0377', 'nm0618', 'sm1640'],\n",
       " ['sm1907', 'gn0108', 'pr0353', 'dr0609', 'ms1500'],\n",
       " ['aos0040', 'ds0814', 'av0659', 'nv0234', 'hy0232']]"
      ]
     },
     "execution_count": 42,
     "metadata": {},
     "output_type": "execute_result"
    }
   ],
   "source": [
    "import random\n",
    "studnet_list = ['ja0964','sa1198','sb1357','vb0218','sc1229','kg0569','kg0470','sg1297','bg0320','fh0141','jl1252','sk1386', 'ak0956','sk1390','sk1458','sk1313',\n",
    "                'ak0934','vm0377','nm0618','sm1640',\n",
    "                'sm1907','gn0108','pr0353','dr0609','ms1500','aos0040','ds0814', 'av0659','nv0234','hy0232']\n",
    "\n",
    "def partition(lst, n): \n",
    "    divide = len(lst) / float(n) \n",
    "    return [ lst[int(round(divide * i)): int(round(divide * (i + 1)))] for i in range(n) ]\n",
    "\n",
    "partition(studnet_list,6)\n"
   ]
  },
  {
   "cell_type": "markdown",
   "metadata": {},
   "source": [
    "(9) Write a Python program to find the duplicate elements in a given array of integers. Return -1 If there are no such elements. (5 points)"
   ]
  },
  {
   "cell_type": "code",
   "execution_count": 41,
   "metadata": {},
   "outputs": [
    {
     "name": "stdout",
     "output_type": "stream",
     "text": [
      "[1, 1, 1, -1]\n"
     ]
    }
   ],
   "source": [
    "array =[1,3,2,2]\n",
    "def duplicated(x):\n",
    "  length = len(x)\n",
    "  dup = []\n",
    "  notdup=[]\n",
    "  for i in range(length-1):\n",
    "    k = i + 1\n",
    "    for j in range(k, length):\n",
    "      if(x[i] == x[j]and x[i] not in dup) :\n",
    "        dup.append(-1)\n",
    "      elif(x[i] != x[j]and x[i] not in dup):\n",
    "        dup.append(1)\n",
    "  return(dup)\n",
    "\n",
    "\n",
    "print(duplicated(array))"
   ]
  },
  {
   "cell_type": "markdown",
   "metadata": {},
   "source": [
    "(10) Write a Python program to select all the Sundays of a specified year. (5 extra points)"
   ]
  },
  {
   "cell_type": "code",
   "execution_count": 30,
   "metadata": {},
   "outputs": [
    {
     "name": "stdout",
     "output_type": "stream",
     "text": [
      "Sunday,2-1-2022\n",
      "Sunday,9-1-2022\n",
      "Sunday,16-1-2022\n",
      "Sunday,23-1-2022\n",
      "Sunday,30-1-2022\n",
      "Sunday,6-2-2022\n",
      "Sunday,13-2-2022\n",
      "Sunday,20-2-2022\n",
      "Sunday,27-2-2022\n",
      "Sunday,6-3-2022\n",
      "Sunday,13-3-2022\n",
      "Sunday,20-3-2022\n",
      "Sunday,27-3-2022\n",
      "Sunday,3-4-2022\n",
      "Sunday,10-4-2022\n",
      "Sunday,17-4-2022\n",
      "Sunday,24-4-2022\n",
      "Sunday,1-5-2022\n",
      "Sunday,8-5-2022\n",
      "Sunday,15-5-2022\n",
      "Sunday,22-5-2022\n",
      "Sunday,29-5-2022\n",
      "Sunday,5-6-2022\n",
      "Sunday,12-6-2022\n",
      "Sunday,19-6-2022\n",
      "Sunday,26-6-2022\n",
      "Sunday,3-7-2022\n",
      "Sunday,10-7-2022\n",
      "Sunday,17-7-2022\n",
      "Sunday,24-7-2022\n",
      "Sunday,31-7-2022\n",
      "Sunday,7-8-2022\n",
      "Sunday,14-8-2022\n",
      "Sunday,21-8-2022\n",
      "Sunday,28-8-2022\n",
      "Sunday,4-9-2022\n",
      "Sunday,11-9-2022\n",
      "Sunday,18-9-2022\n",
      "Sunday,25-9-2022\n",
      "Sunday,2-10-2022\n",
      "Sunday,9-10-2022\n",
      "Sunday,16-10-2022\n",
      "Sunday,23-10-2022\n",
      "Sunday,30-10-2022\n",
      "Sunday,6-11-2022\n",
      "Sunday,13-11-2022\n",
      "Sunday,20-11-2022\n",
      "Sunday,27-11-2022\n",
      "Sunday,4-12-2022\n",
      "Sunday,11-12-2022\n",
      "Sunday,18-12-2022\n",
      "Sunday,25-12-2022\n"
     ]
    }
   ],
   "source": [
    "from datetime import date\n",
    "import calendar\n",
    "Year= 2022\n",
    "A=calendar.TextCalendar(calendar.SUNDAY)\n",
    "for i in range(1,13):\n",
    "    for n in A.itermonthdays(Year,i):\n",
    "        if n!=0:\n",
    "            day=date(Year,i,n)\n",
    "            if day.weekday()==6:\n",
    "                print(\"%s,%d-%d-%d\" % (calendar.day_name[6],n,i,Year))\n"
   ]
  },
  {
   "cell_type": "code",
   "execution_count": null,
   "metadata": {},
   "outputs": [],
   "source": []
  },
  {
   "cell_type": "code",
   "execution_count": null,
   "metadata": {},
   "outputs": [],
   "source": []
  }
 ],
 "metadata": {
  "colab": {
   "collapsed_sections": [],
   "include_colab_link": true,
   "name": "In_class_exercise_01.ipynb",
   "provenance": []
  },
  "kernelspec": {
   "display_name": "Python 3 (ipykernel)",
   "language": "python",
   "name": "python3"
  },
  "language_info": {
   "codemirror_mode": {
    "name": "ipython",
    "version": 3
   },
   "file_extension": ".py",
   "mimetype": "text/x-python",
   "name": "python",
   "nbconvert_exporter": "python",
   "pygments_lexer": "ipython3",
   "version": "3.10.2"
  }
 },
 "nbformat": 4,
 "nbformat_minor": 1
}
