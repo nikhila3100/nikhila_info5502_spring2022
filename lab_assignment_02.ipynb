{
  "cells": [
    {
      "cell_type": "markdown",
      "metadata": {
        "id": "view-in-github",
        "colab_type": "text"
      },
      "source": [
        "<a href=\"https://colab.research.google.com/github/nikhila3100/nikhila_info5502_spring2022/blob/main/lab_assignment_02.ipynb\" target=\"_parent\"><img src=\"https://colab.research.google.com/assets/colab-badge.svg\" alt=\"Open In Colab\"/></a>"
      ]
    },
    {
      "cell_type": "markdown",
      "metadata": {
        "id": "Ryk8D1Q4Wsrp"
      },
      "source": [
        "# **The second Lab-assignment (02/04/2022, 50 points in total)**"
      ]
    },
    {
      "cell_type": "markdown",
      "metadata": {
        "id": "90_NR8c5XGWc"
      },
      "source": [
        "# Question 1\n",
        "\n",
        "(5 points). Write a Python program to generate 12 random numbers between 1 and 100. Sort the list of numbers in ascending order and print it out. Sort the list of numbers in descending order and print it out. Calculate the average for the group and print it out."
      ]
    },
    {
      "cell_type": "code",
      "execution_count": 6,
      "metadata": {
        "colab": {
          "base_uri": "https://localhost:8080/"
        },
        "id": "5QX6bJjGWXY9",
        "outputId": "57d335c2-9cca-4677-b714-e5053663f822"
      },
      "outputs": [
        {
          "output_type": "stream",
          "name": "stdout",
          "text": [
            "ascending order: [50]\n",
            "descending order: [50]\n",
            "average 50.0\n",
            "ascending order: [32, 50]\n",
            "descending order: [50, 32]\n",
            "average 41.0\n",
            "ascending order: [32, 50, 71]\n",
            "descending order: [71, 50, 32]\n",
            "average 51.0\n",
            "ascending order: [32, 38, 50, 71]\n",
            "descending order: [71, 50, 38, 32]\n",
            "average 47.75\n",
            "ascending order: [32, 38, 50, 71, 72]\n",
            "descending order: [72, 71, 50, 38, 32]\n",
            "average 52.6\n",
            "ascending order: [32, 38, 50, 63, 71, 72]\n",
            "descending order: [72, 71, 63, 50, 38, 32]\n",
            "average 54.333333333333336\n",
            "ascending order: [32, 38, 50, 51, 63, 71, 72]\n",
            "descending order: [72, 71, 63, 51, 50, 38, 32]\n",
            "average 53.857142857142854\n",
            "ascending order: [4, 32, 38, 50, 51, 63, 71, 72]\n",
            "descending order: [72, 71, 63, 51, 50, 38, 32, 4]\n",
            "average 47.625\n",
            "ascending order: [4, 11, 32, 38, 50, 51, 63, 71, 72]\n",
            "descending order: [72, 71, 63, 51, 50, 38, 32, 11, 4]\n",
            "average 43.55555555555556\n",
            "ascending order: [4, 11, 32, 38, 50, 51, 62, 63, 71, 72]\n",
            "descending order: [72, 71, 63, 62, 51, 50, 38, 32, 11, 4]\n",
            "average 45.4\n",
            "ascending order: [4, 7, 11, 32, 38, 50, 51, 62, 63, 71, 72]\n",
            "descending order: [72, 71, 63, 62, 51, 50, 38, 32, 11, 7, 4]\n",
            "average 41.90909090909091\n",
            "ascending order: [4, 7, 11, 32, 38, 39, 50, 51, 62, 63, 71, 72]\n",
            "descending order: [72, 71, 63, 62, 51, 50, 39, 38, 32, 11, 7, 4]\n",
            "average 41.666666666666664\n"
          ]
        }
      ],
      "source": [
        "# Your code here\n",
        "\n",
        "import random\n",
        "mylist = []\n",
        "for i in range(0,12):\n",
        "    n = random.randint(0,100)\n",
        "    mylist.append(n)\n",
        "    mylist.sort()\n",
        "    print(\"ascending order:\", mylist)\n",
        "    mylist.sort(reverse=True)\n",
        "    print(\"descending order:\", mylist)\n",
        "    print(\"average\", (sum(mylist)/len(mylist)))\n",
        "    "
      ]
    },
    {
      "cell_type": "markdown",
      "source": [
        ""
      ],
      "metadata": {
        "id": "86nxr_l_x7S8"
      }
    },
    {
      "cell_type": "markdown",
      "metadata": {
        "id": "1F_PZdH9Sh49"
      },
      "source": [
        "# Question 2\n",
        "(20 points). Write a program that will do the following string formatting tasks:\n",
        "\n",
        "(1) Ask the user to enter two sentences.\n",
        "\n",
        "(2) Make each sentence into a list. Each element in the list should correspond to a word in the sentence. For example, if the sentence is \"Alas! Am I alive? This is my first python program\", the program should print out ['Alas, '!', 'Am', 'I', 'alive, '?', 'This', 'is', 'my', 'first', 'python', 'program'].\n",
        "\n",
        "(3) Compare the two sentences. Print out a list of words that occur in both sentences.\n",
        "\n",
        "(4) Remove any punctuation from the sentence and print it back out. It should remove at least the following characters, but it can remove more: period(“.”), comma (“,”), semicolon (“;”), and colon (“:”)\n",
        "\n",
        "(5) Count the number of vowels in the sentences. Print out each vowel and the number of times it appears in the sentences, such as: a:2, e:1, i:0, etc"
      ]
    },
    {
      "cell_type": "code",
      "execution_count": null,
      "metadata": {
        "id": "Y0oOSlsOS0cq"
      },
      "outputs": [],
      "source": [
        "# Your code here\n",
        "# 1st\n",
        "x=input(\"enter the first sentence\")\n",
        "y=input(\"Enter the second sentence\")\n",
        "xx=x\n",
        "yy=y\n",
        "#nltk.word_tokenize(a)\n",
        "# 2nd\n",
        "x=re.findall(r\"[A-Za-z]+|\\S\", x)\n",
        "y=re.findall(r\"[A-Za-z]+|\\S\", y)\n",
        "print(x)\n",
        "print(y)\n",
        "\n",
        "# 3rd\n",
        "new=list(set(x).intersection(y))\n",
        "#print(\"The common words in both the sentences are\",list(set(x).intersection(y)))\n",
        "for i in new:\n",
        "  if i in (\"[!,*)@#%(&$_?.^]'\"):\n",
        "    new.remove(i)\n",
        "    print(\"The common words are\",new)  \n",
        "\n",
        "#4th\n",
        "\n",
        "print(\"Sentence1 without punctuation : \",\" \".join(spchar for spchar in re.findall(r\"[A-Za-z]+|\\s\", xx) if spchar != \" \"))\n",
        "print(\"Sentence2 without punctuation : \",\" \".join(spchar for spchar in re.findall(r\"[A-Za-z]+|\\s\", yy) if spchar != \" \"))\n",
        "\n",
        "#5th\n",
        "for sentence in (xx, yy):\n",
        "  vc = {}\n",
        "  for j in ['a', 'e', 'i', 'o', 'u']:\n",
        "    vc[j] = sentence.lower().count(j)\n",
        "\n",
        "  print(vc)\n",
        "\n"
      ]
    },
    {
      "cell_type": "markdown",
      "metadata": {
        "id": "CmFoI4jDS9nx"
      },
      "source": [
        "# Question 3 \n",
        "\n",
        "(5 points). The formula that describes the volume V of a sphere with radius r is the following:\n",
        "\n",
        "$ V=\\frac{4}{3}\\ast\\ \\pi\\ast\\ r^3 $\n",
        "\n",
        "Write a program to calculate the value of V when r is in the range of 1–10. Output the result in the following format:\n",
        "\n",
        "\tr\tV\n",
        "\t1\t…\n",
        "\t2\t…\n",
        "\t3\t…\n"
      ]
    },
    {
      "cell_type": "code",
      "execution_count": 1,
      "metadata": {
        "colab": {
          "base_uri": "https://localhost:8080/"
        },
        "id": "pEyqeioAT95b",
        "outputId": "f7844ba0-4527-4732-8a43-9f5d41a90b60"
      },
      "outputs": [
        {
          "output_type": "stream",
          "name": "stdout",
          "text": [
            "r \t V\n",
            "1 \t 4.1866666666666665\n",
            "2 \t 33.49333333333333\n",
            "3 \t 113.03999999999999\n",
            "4 \t 267.94666666666666\n",
            "5 \t 523.3333333333334\n",
            "6 \t 904.3199999999999\n",
            "7 \t 1436.0266666666666\n",
            "8 \t 2143.5733333333333\n",
            "9 \t 3052.08\n",
            "10 \t 4186.666666666667\n"
          ]
        }
      ],
      "source": [
        "# Your code here\n",
        "import math\n",
        "print('r','\\t', 'V')\n",
        "for r in range (1,11):\n",
        "  v=4/3*3.14*pow(r,3)\n",
        "  print(r,'\\t', v)\n",
        "\n"
      ]
    },
    {
      "cell_type": "markdown",
      "metadata": {
        "id": "z3tBE7E-Xn5X"
      },
      "source": [
        "# Question 4\n",
        "\n",
        "(20 points). In the field of Data Science, data is often formatted as a comma-delimited (CSV) file, where each line in a file corresponds to a field's value. Refer to Chapter 9 (p. 106) for more information on comma-delimited files. To answer this question, you will need to download the file [lab_assignment_02_denton_housing.csv](https://raw.githubusercontent.com/unt-iialab/info5502-spring2022/main/datasets/lab_assignment_02_denton_housing.csv) included with this assignment. The file [lab_assignment_02_denton_housing.csv](https://raw.githubusercontent.com/unt-iialab/info5502-spring2022/main/datasets/lab_assignment_02_denton_housing.csv) contains statistics about housing in the city of Denton from 2008 to 2014. Write a program to implement the following questions.\n",
        "\n",
        "(1) (10 pts) Calculate the difference in the number of Occupied Housing Units from year to year and print it. The difference must be calculated for the consecutive years such as 2008-2009, 2009-2010 etc. Finally, print the values in the ascending order.\n",
        "\n",
        "(2) (10 pts) For all the years, calculate the percentage of housing units which are vacant an occupied. Print the results in the following format:\n",
        "\n",
        "Year Vacant Housing Units Occupied Housing Units\n",
        "\n",
        "    2008  30%   70%                          \n",
        "\t2009 ----- -----\n",
        "\t2010 ----- -----\n",
        "    2011 ----- -----\n",
        "\t2012 ----- -----\n",
        "    2013 ----- -----\n",
        "\t2014 ----- -----\n",
        "  \n",
        "  \n",
        "\n",
        "(3) (10 pts) Calculate and print the valued and years in which the highest number of housing units were vacant and occupied. Print the results in the following format:  \n",
        "\n",
        "                              Year\tValue\n",
        "\tVacant Housing Units\t  -----   -----\n",
        "\tOccupied Housing Units\t-----   -----\n",
        "\n",
        "(4) (10 pts) Calculate the harmonic mean of the total housing units and print it out. You can find the information about harmonic mean here: https://ncalculators.com/statistics/harmonic-mean-calculator.htm"
      ]
    },
    {
      "cell_type": "code",
      "execution_count": null,
      "metadata": {
        "id": "lqGYuHBhcsRH"
      },
      "outputs": [],
      "source": [
        "# Your code here\n",
        "\n",
        "from google.colab import files\n",
        "import pandas as pd\n",
        "import io\n",
        "upl = files.upload()\n",
        "dataframe = pd.read_csv(io.StringIO(upl['lab_assignment_02_denton_housing.csv'].decode('utf-8')))\n",
        "#1\n",
        "x={}\n",
        "for year in range(2008,2014):\n",
        "  x[\"{}-{}\".format(year, year+1)] = abs(dataframe[(dataframe['year'] == year) & (dataframe['title_field'] == \"Occupied Housing Units\")].values[0][2] - dataframe[(dataframe['year'] == year + 1) & (dataframe['title_field'] == \"Occupied Housing Units\")].values[0][2])\n",
        "\n",
        "print(\"The Ascending order is: \")\n",
        "x = {k: v for k, v in sorted(x.items(), key=lambda item: item[1])}\n",
        "\n",
        "for y in x.keys():\n",
        "  print(\"{}: {}\".format(y, x[y]))\n",
        "  \n",
        "#2\n",
        "p = pd.DataFrame(columns = ['Year', 'Vacant Housing %', 'Occupied Housing %'])\n",
        "\n",
        "for year in range(2008, 2015):\n",
        "  result = {}\n",
        "  result['Year'] = year\n",
        "  result['Vacant Housing %'] = dataframe[(dataframe['year'] == year)]['value'].values[1] / (dataframe[(dataframe['year'] == year)]['value'].values[0])\n",
        "  result['Occupied Housing %'] = dataframe[(dataframe['year'] == year)]['value'].values[2] / (dataframe[(dataframe['year'] == year)]['value'].values[0])  \n",
        "  p= p.append(result,index=True)\n",
        "\n",
        "p['Year'] = p['Year'].astype('int64')\n",
        "print(p)\n",
        "\n",
        "#3\n",
        "housing_units = pd.DataFrame(columns=['Units','Year', 'Value'])\n",
        "for units in ['Vacant Housing Units', \"Occupied Housing Units\"]:\n",
        "  r = {}\n",
        "  r['Units'] = units\n",
        "  r['Year'] = dataframe[dataframe['title_field'] == units]['year'].max()\n",
        "  r['Value'] = dataframe[dataframe['title_field'] == units]['value'].max()\n",
        "  housing_units = housing_units.append(r,index=True)\n",
        "\n",
        "print(housing_units.index('Units'))\n",
        "\n",
        "#4\n",
        "\n",
        "from statistics import harmonic_mean\n",
        "print(\"The Harmonic mean of the total Housing Units is: \",harmonic_mean(dataframe[dataframe['title_field'] == 'Total Housing Units']['value']))\n",
        "\n",
        "\n"
      ]
    }
  ],
  "metadata": {
    "colab": {
      "collapsed_sections": [],
      "name": "lab_assignment_02.ipynb",
      "provenance": [],
      "include_colab_link": true
    },
    "kernelspec": {
      "display_name": "Python 3",
      "language": "python",
      "name": "python3"
    },
    "language_info": {
      "codemirror_mode": {
        "name": "ipython",
        "version": 3
      },
      "file_extension": ".py",
      "mimetype": "text/x-python",
      "name": "python",
      "nbconvert_exporter": "python",
      "pygments_lexer": "ipython3",
      "version": "3.8.5"
    }
  },
  "nbformat": 4,
  "nbformat_minor": 0
}